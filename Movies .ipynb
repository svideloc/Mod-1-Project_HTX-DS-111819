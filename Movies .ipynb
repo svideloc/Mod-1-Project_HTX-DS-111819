{
 "cells": [
  {
   "cell_type": "code",
   "execution_count": 37,
   "metadata": {},
   "outputs": [],
   "source": [
    "import pandas as pd\n",
    "import numpy as np"
   ]
  },
  {
   "cell_type": "code",
   "execution_count": 38,
   "metadata": {},
   "outputs": [],
   "source": [
    "df = pd.read_csv('full_data.csv')"
   ]
  },
  {
   "cell_type": "code",
   "execution_count": 39,
   "metadata": {},
   "outputs": [
    {
     "data": {
      "text/html": [
       "<div>\n",
       "<style scoped>\n",
       "    .dataframe tbody tr th:only-of-type {\n",
       "        vertical-align: middle;\n",
       "    }\n",
       "\n",
       "    .dataframe tbody tr th {\n",
       "        vertical-align: top;\n",
       "    }\n",
       "\n",
       "    .dataframe thead th {\n",
       "        text-align: right;\n",
       "    }\n",
       "</style>\n",
       "<table border=\"1\" class=\"dataframe\">\n",
       "  <thead>\n",
       "    <tr style=\"text-align: right;\">\n",
       "      <th></th>\n",
       "      <th>date</th>\n",
       "      <th>movie</th>\n",
       "      <th>budget</th>\n",
       "      <th>domestic_gross</th>\n",
       "      <th>worldwide_gross</th>\n",
       "    </tr>\n",
       "  </thead>\n",
       "  <tbody>\n",
       "    <tr>\n",
       "      <td>0</td>\n",
       "      <td>40683</td>\n",
       "      <td>Pirates of the Caribbean: On Stranger Tides</td>\n",
       "      <td>$410,600,000</td>\n",
       "      <td>$241,063,875</td>\n",
       "      <td>$1,045,663,875</td>\n",
       "    </tr>\n",
       "    <tr>\n",
       "      <td>1</td>\n",
       "      <td>43578</td>\n",
       "      <td>Avengers: Endgame</td>\n",
       "      <td>$400,000,000</td>\n",
       "      <td>$858,373,000</td>\n",
       "      <td>$2,797,800,564</td>\n",
       "    </tr>\n",
       "    <tr>\n",
       "      <td>2</td>\n",
       "      <td>42116</td>\n",
       "      <td>Avengers: Age of Ultron</td>\n",
       "      <td>$330,600,000</td>\n",
       "      <td>$459,005,868</td>\n",
       "      <td>$1,403,013,963</td>\n",
       "    </tr>\n",
       "    <tr>\n",
       "      <td>3</td>\n",
       "      <td>43082</td>\n",
       "      <td>Star Wars Ep. VIII: The Last Jedi</td>\n",
       "      <td>$317,000,000</td>\n",
       "      <td>$620,181,382</td>\n",
       "      <td>$1,332,539,889</td>\n",
       "    </tr>\n",
       "    <tr>\n",
       "      <td>4</td>\n",
       "      <td>42354</td>\n",
       "      <td>Star Wars Ep. VII: The Force Awakens</td>\n",
       "      <td>$306,000,000</td>\n",
       "      <td>$936,662,225</td>\n",
       "      <td>$2,068,223,624</td>\n",
       "    </tr>\n",
       "  </tbody>\n",
       "</table>\n",
       "</div>"
      ],
      "text/plain": [
       "    date                                        movie         budget  \\\n",
       "0  40683  Pirates of the Caribbean: On Stranger Tides   $410,600,000   \n",
       "1  43578                            Avengers: Endgame   $400,000,000   \n",
       "2  42116                      Avengers: Age of Ultron   $330,600,000   \n",
       "3  43082            Star Wars Ep. VIII: The Last Jedi   $317,000,000   \n",
       "4  42354         Star Wars Ep. VII: The Force Awakens   $306,000,000   \n",
       "\n",
       "  domestic_gross  worldwide_gross  \n",
       "0   $241,063,875   $1,045,663,875  \n",
       "1   $858,373,000   $2,797,800,564  \n",
       "2   $459,005,868   $1,403,013,963  \n",
       "3   $620,181,382   $1,332,539,889  \n",
       "4   $936,662,225   $2,068,223,624  "
      ]
     },
     "execution_count": 39,
     "metadata": {},
     "output_type": "execute_result"
    }
   ],
   "source": [
    "df.head()"
   ]
  },
  {
   "cell_type": "code",
   "execution_count": 40,
   "metadata": {},
   "outputs": [],
   "source": [
    "df_2018 = pd.read_csv('data_2018.csv')\n",
    "df_2017 = pd.read_csv('data_2017.csv')\n",
    "df_2016 = pd.read_csv('data_2016.csv')"
   ]
  },
  {
   "cell_type": "code",
   "execution_count": 41,
   "metadata": {},
   "outputs": [
    {
     "name": "stdout",
     "output_type": "stream",
     "text": [
      "<class 'pandas.core.frame.DataFrame'>\n",
      "RangeIndex: 594 entries, 0 to 593\n",
      "Data columns (total 5 columns):\n",
      "date               594 non-null int64\n",
      "movie              594 non-null object\n",
      "budget             594 non-null object\n",
      "domestic_gross     594 non-null object\n",
      "worldwide_gross    594 non-null object\n",
      "dtypes: int64(1), object(4)\n",
      "memory usage: 23.3+ KB\n"
     ]
    }
   ],
   "source": [
    "df.info()"
   ]
  },
  {
   "cell_type": "code",
   "execution_count": 42,
   "metadata": {},
   "outputs": [
    {
     "data": {
      "text/plain": [
       "0       $1,045,663,875\n",
       "1       $2,797,800,564\n",
       "2       $1,403,013,963\n",
       "3       $1,332,539,889\n",
       "4       $2,068,223,624\n",
       "            ...       \n",
       "589       $295,874,190\n",
       "590        $58,085,235\n",
       "591       $149,217,355\n",
       "592       $213,116,401\n",
       "593       $359,495,591\n",
       "Name: worldwide_gross, Length: 594, dtype: object"
      ]
     },
     "execution_count": 42,
     "metadata": {},
     "output_type": "execute_result"
    }
   ],
   "source": [
    "df['budget'].astype(str)\n",
    "df['domestic_gross'].astype(str)\n",
    "df['worldwide_gross'].astype(str)"
   ]
  },
  {
   "cell_type": "code",
   "execution_count": 43,
   "metadata": {},
   "outputs": [],
   "source": [
    "df['budget'] = df['budget'].str.replace(',', '')\n",
    "df['budget'] = df['budget'].str.replace('$', '')\n",
    "df['budget'] = df['budget'].astype(float)"
   ]
  },
  {
   "cell_type": "code",
   "execution_count": 48,
   "metadata": {},
   "outputs": [],
   "source": [
    "df['domestic_gross'] = df['domestic_gross'].str.replace(',', '')\n",
    "df['domestic_gross'] = df['domestic_gross'].str.replace('$', '')\n",
    "df['domestic_gross'] = df['domestic_gross'].astype(float)"
   ]
  },
  {
   "cell_type": "code",
   "execution_count": 49,
   "metadata": {},
   "outputs": [],
   "source": [
    "df['worldwide_gross'] = df['worldwide_gross'].str.replace(',', '')\n",
    "df['worldwide_gross'] = df['worldwide_gross'].str.replace('$', '')\n",
    "df['worldwide_gross'] = df['worldwide_gross'].astype(float)"
   ]
  },
  {
   "cell_type": "code",
   "execution_count": 54,
   "metadata": {},
   "outputs": [],
   "source": [
    "df['worldwide_gross - budget'] = df.worldwide_gross - df.budget \n",
    "df['domestic_gross - budget'] = df.domestic_gross - df.budget "
   ]
  },
  {
   "cell_type": "code",
   "execution_count": null,
   "metadata": {},
   "outputs": [],
   "source": []
  },
  {
   "cell_type": "code",
   "execution_count": null,
   "metadata": {},
   "outputs": [],
   "source": []
  }
 ],
 "metadata": {
  "kernelspec": {
   "display_name": "Python [conda env:learn-env] *",
   "language": "python",
   "name": "conda-env-learn-env-py"
  },
  "language_info": {
   "codemirror_mode": {
    "name": "ipython",
    "version": 3
   },
   "file_extension": ".py",
   "mimetype": "text/x-python",
   "name": "python",
   "nbconvert_exporter": "python",
   "pygments_lexer": "ipython3",
   "version": "3.6.9"
  }
 },
 "nbformat": 4,
 "nbformat_minor": 2
}
