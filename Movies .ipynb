{
 "cells": [
  {
   "cell_type": "markdown",
   "metadata": {},
   "source": [
    "Step 1: Importing pandas, and reading the full_data.csv file that was pulled from the Numbers website\n",
    "        - This file ranks movies produced between 2006 - and mid 2019 by total budget"
   ]
  },
  {
   "cell_type": "code",
<<<<<<< HEAD
   "execution_count": 3,
=======
<<<<<<< HEAD
   "execution_count": 13,
=======
   "execution_count": 1,
>>>>>>> 10ebcc4880c811d8b59603817512fa17724b64d2
>>>>>>> 9fcd7ef18f43ec57cae4c5c76e649692af408b82
   "metadata": {},
   "outputs": [],
   "source": [
    "import pandas as pd\n",
    "import numpy as np"
   ]
  },
  {
   "cell_type": "code",
<<<<<<< HEAD
   "execution_count": 4,
=======
<<<<<<< HEAD
   "execution_count": 14,
=======
   "execution_count": 2,
>>>>>>> 10ebcc4880c811d8b59603817512fa17724b64d2
>>>>>>> 9fcd7ef18f43ec57cae4c5c76e649692af408b82
   "metadata": {},
   "outputs": [],
   "source": [
    "df = pd.read_csv('full_data.csv') "
   ]
  },
  {
   "cell_type": "code",
<<<<<<< HEAD
   "execution_count": 5,
=======
<<<<<<< HEAD
   "execution_count": 15,
=======
   "execution_count": 3,
>>>>>>> 10ebcc4880c811d8b59603817512fa17724b64d2
>>>>>>> 9fcd7ef18f43ec57cae4c5c76e649692af408b82
   "metadata": {},
   "outputs": [
    {
     "data": {
      "text/html": [
       "<div>\n",
       "<style scoped>\n",
       "    .dataframe tbody tr th:only-of-type {\n",
       "        vertical-align: middle;\n",
       "    }\n",
       "\n",
       "    .dataframe tbody tr th {\n",
       "        vertical-align: top;\n",
       "    }\n",
       "\n",
       "    .dataframe thead th {\n",
       "        text-align: right;\n",
       "    }\n",
       "</style>\n",
       "<table border=\"1\" class=\"dataframe\">\n",
       "  <thead>\n",
       "    <tr style=\"text-align: right;\">\n",
       "      <th></th>\n",
       "      <th>date</th>\n",
       "      <th>movie</th>\n",
       "      <th>budget</th>\n",
       "      <th>domestic_gross</th>\n",
       "      <th>worldwide_gross</th>\n",
       "    </tr>\n",
       "  </thead>\n",
       "  <tbody>\n",
       "    <tr>\n",
       "      <td>0</td>\n",
       "      <td>40683</td>\n",
       "      <td>Pirates of the Caribbean: On Stranger Tides</td>\n",
       "      <td>$410,600,000</td>\n",
       "      <td>$241,063,875</td>\n",
       "      <td>$1,045,663,875</td>\n",
       "    </tr>\n",
       "    <tr>\n",
       "      <td>1</td>\n",
       "      <td>43578</td>\n",
       "      <td>Avengers: Endgame</td>\n",
       "      <td>$400,000,000</td>\n",
       "      <td>$858,373,000</td>\n",
       "      <td>$2,797,800,564</td>\n",
       "    </tr>\n",
       "    <tr>\n",
       "      <td>2</td>\n",
       "      <td>42116</td>\n",
       "      <td>Avengers: Age of Ultron</td>\n",
       "      <td>$330,600,000</td>\n",
       "      <td>$459,005,868</td>\n",
       "      <td>$1,403,013,963</td>\n",
       "    </tr>\n",
       "    <tr>\n",
       "      <td>3</td>\n",
       "      <td>43082</td>\n",
       "      <td>Star Wars Ep. VIII: The Last Jedi</td>\n",
       "      <td>$317,000,000</td>\n",
       "      <td>$620,181,382</td>\n",
       "      <td>$1,332,539,889</td>\n",
       "    </tr>\n",
       "    <tr>\n",
       "      <td>4</td>\n",
       "      <td>42354</td>\n",
       "      <td>Star Wars Ep. VII: The Force Awakens</td>\n",
       "      <td>$306,000,000</td>\n",
       "      <td>$936,662,225</td>\n",
       "      <td>$2,068,223,624</td>\n",
       "    </tr>\n",
       "  </tbody>\n",
       "</table>\n",
       "</div>"
      ],
      "text/plain": [
       "    date                                        movie         budget  \\\n",
       "0  40683  Pirates of the Caribbean: On Stranger Tides   $410,600,000   \n",
       "1  43578                            Avengers: Endgame   $400,000,000   \n",
       "2  42116                      Avengers: Age of Ultron   $330,600,000   \n",
       "3  43082            Star Wars Ep. VIII: The Last Jedi   $317,000,000   \n",
       "4  42354         Star Wars Ep. VII: The Force Awakens   $306,000,000   \n",
       "\n",
       "  domestic_gross  worldwide_gross  \n",
       "0   $241,063,875   $1,045,663,875  \n",
       "1   $858,373,000   $2,797,800,564  \n",
       "2   $459,005,868   $1,403,013,963  \n",
       "3   $620,181,382   $1,332,539,889  \n",
       "4   $936,662,225   $2,068,223,624  "
      ]
     },
<<<<<<< HEAD
     "execution_count": 5,
=======
<<<<<<< HEAD
     "execution_count": 15,
=======
     "execution_count": 3,
>>>>>>> 10ebcc4880c811d8b59603817512fa17724b64d2
>>>>>>> 9fcd7ef18f43ec57cae4c5c76e649692af408b82
     "metadata": {},
     "output_type": "execute_result"
    }
   ],
   "source": [
    "df.head()"
   ]
  },
  {
   "cell_type": "code",
<<<<<<< HEAD
   "execution_count": 6,
=======
<<<<<<< HEAD
   "execution_count": 16,
=======
   "execution_count": 4,
>>>>>>> 10ebcc4880c811d8b59603817512fa17724b64d2
   "metadata": {},
   "outputs": [],
   "source": [
    "df_2018 = pd.read_csv('data_2018.csv')\n",
    "df_2017 = pd.read_csv('data_2017.csv')\n",
    "df_2016 = pd.read_csv('data_2016.csv')"
   ]
  },
  {
   "cell_type": "code",
<<<<<<< HEAD
   "execution_count": 17,
=======
   "execution_count": 5,
>>>>>>> 10ebcc4880c811d8b59603817512fa17724b64d2
>>>>>>> 9fcd7ef18f43ec57cae4c5c76e649692af408b82
   "metadata": {},
   "outputs": [
    {
     "name": "stdout",
     "output_type": "stream",
     "text": [
      "<class 'pandas.core.frame.DataFrame'>\n",
      "RangeIndex: 594 entries, 0 to 593\n",
      "Data columns (total 5 columns):\n",
      "date               594 non-null int64\n",
      "movie              594 non-null object\n",
      "budget             594 non-null object\n",
      "domestic_gross     594 non-null object\n",
      "worldwide_gross    594 non-null object\n",
      "dtypes: int64(1), object(4)\n",
      "memory usage: 23.3+ KB\n"
     ]
    }
   ],
   "source": [
    "df.info()"
   ]
  },
  {
   "cell_type": "code",
<<<<<<< HEAD
   "execution_count": 7,
=======
<<<<<<< HEAD
   "execution_count": 18,
=======
   "execution_count": 6,
>>>>>>> 10ebcc4880c811d8b59603817512fa17724b64d2
>>>>>>> 9fcd7ef18f43ec57cae4c5c76e649692af408b82
   "metadata": {},
   "outputs": [
    {
     "data": {
      "text/plain": [
       "0       $1,045,663,875\n",
       "1       $2,797,800,564\n",
       "2       $1,403,013,963\n",
       "3       $1,332,539,889\n",
       "4       $2,068,223,624\n",
       "            ...       \n",
       "589       $295,874,190\n",
       "590        $58,085,235\n",
       "591       $149,217,355\n",
       "592       $213,116,401\n",
       "593       $359,495,591\n",
       "Name: worldwide_gross, Length: 594, dtype: object"
      ]
     },
<<<<<<< HEAD
     "execution_count": 7,
=======
<<<<<<< HEAD
     "execution_count": 18,
=======
     "execution_count": 6,
>>>>>>> 10ebcc4880c811d8b59603817512fa17724b64d2
>>>>>>> 9fcd7ef18f43ec57cae4c5c76e649692af408b82
     "metadata": {},
     "output_type": "execute_result"
    }
   ],
   "source": [
    "df['budget'].astype(str)\n",
    "df['domestic_gross'].astype(str)\n",
    "df['worldwide_gross'].astype(str)"
   ]
  },
  {
   "cell_type": "markdown",
   "metadata": {},
   "source": [
    "Here we realized that the number values were actually objects, so below we removed the ',' and '$' from the values and redefined them as floats"
   ]
  },
  {
   "cell_type": "code",
<<<<<<< HEAD
   "execution_count": 8,
=======
<<<<<<< HEAD
   "execution_count": 19,
=======
   "execution_count": 7,
>>>>>>> 10ebcc4880c811d8b59603817512fa17724b64d2
>>>>>>> 9fcd7ef18f43ec57cae4c5c76e649692af408b82
   "metadata": {},
   "outputs": [],
   "source": [
    "df['budget'] = df['budget'].str.replace(',', '')\n",
    "df['budget'] = df['budget'].str.replace('$', '')\n",
    "df['budget'] = df['budget'].astype(float)"
   ]
  },
  {
   "cell_type": "code",
<<<<<<< HEAD
   "execution_count": 9,
=======
<<<<<<< HEAD
   "execution_count": 20,
=======
   "execution_count": 8,
>>>>>>> 10ebcc4880c811d8b59603817512fa17724b64d2
>>>>>>> 9fcd7ef18f43ec57cae4c5c76e649692af408b82
   "metadata": {},
   "outputs": [],
   "source": [
    "df['domestic_gross'] = df['domestic_gross'].str.replace(',', '')\n",
    "df['domestic_gross'] = df['domestic_gross'].str.replace('$', '')\n",
    "df['domestic_gross'] = df['domestic_gross'].astype(float)"
   ]
  },
  {
   "cell_type": "code",
<<<<<<< HEAD
   "execution_count": 10,
=======
<<<<<<< HEAD
   "execution_count": 21,
=======
   "execution_count": 9,
>>>>>>> 10ebcc4880c811d8b59603817512fa17724b64d2
>>>>>>> 9fcd7ef18f43ec57cae4c5c76e649692af408b82
   "metadata": {},
   "outputs": [],
   "source": [
    "df['worldwide_gross'] = df['worldwide_gross'].str.replace(',', '')\n",
    "df['worldwide_gross'] = df['worldwide_gross'].str.replace('$', '')\n",
    "df['worldwide_gross'] = df['worldwide_gross'].astype(float)"
   ]
  },
  {
<<<<<<< HEAD
   "cell_type": "markdown",
=======
   "cell_type": "code",
<<<<<<< HEAD
   "execution_count": 22,
=======
   "execution_count": 10,
>>>>>>> 10ebcc4880c811d8b59603817512fa17724b64d2
>>>>>>> 9fcd7ef18f43ec57cae4c5c76e649692af408b82
   "metadata": {},
   "source": [
    "calculating profit (assuming the movie creators spent the full budget amount)"
   ]
  },
  {
   "cell_type": "code",
<<<<<<< HEAD
   "execution_count": 34,
=======
   "execution_count": 11,
   "metadata": {},
   "outputs": [],
   "source": [
    "df['worldwide_gross - budget'] = df.worldwide_gross - df.budget \n",
    "df['domestic_gross - budget'] = df.domestic_gross - df.budget "
   ]
  },
  {
   "cell_type": "markdown",
   "metadata": {},
   "source": [
    "We are connecting to the movie DB API in order to pull out specfic data"
   ]
  },
  {
   "cell_type": "code",
   "execution_count": 13,
   "metadata": {},
   "outputs": [],
   "source": [
    "# Option 1: use a json file saved to some other folder outside your Git repo\n",
    "# Need to import json to do this\n",
    "import json\n",
    "\n",
    "# Define a function to open the json\n",
    "def get_keys(path):\n",
    "    with open(path) as f:\n",
    "        return json.load(f)\n",
    "    \n",
    "# Using the function to open and load all keys in that file \n",
    "api_keys = get_keys(\"/Users/Sam/Documents/Secrets/movie_DB.json\")\n",
    "\n",
    "# Setting the first (and only) value as a variable\n",
    "\n",
    "ds_key_1 = list(api_keys.values())[0]"
   ]
  },
  {
   "cell_type": "code",
   "execution_count": 14,
   "metadata": {},
   "outputs": [],
   "source": [
    "import requests"
   ]
  },
  {
   "cell_type": "code",
   "execution_count": 15,
   "metadata": {},
   "outputs": [],
   "source": [
    "url = f\"https://api.themoviedb.org/3/search/movie?api_key={ds_key_1}&query=Star+Wars+Last+Jedi\\\\\""
   ]
  },
  {
   "cell_type": "code",
   "execution_count": 16,
   "metadata": {},
   "outputs": [
    {
     "data": {
      "text/plain": [
       "{'page': 1,\n",
       " 'total_results': 2,\n",
       " 'total_pages': 1,\n",
       " 'results': [{'popularity': 39.91,\n",
       "   'vote_count': 9279,\n",
       "   'video': False,\n",
       "   'poster_path': '/kOVEVeg59E0wsnXmF9nrh6OmWII.jpg',\n",
       "   'id': 181808,\n",
       "   'adult': False,\n",
       "   'backdrop_path': '/5Iw7zQTHVRBOYpA0V6z0yypOPZh.jpg',\n",
       "   'original_language': 'en',\n",
       "   'original_title': 'Star Wars: The Last Jedi',\n",
       "   'genre_ids': [28, 12, 14, 878],\n",
       "   'title': 'Star Wars: The Last Jedi',\n",
       "   'vote_average': 7,\n",
       "   'overview': 'Rey develops her newly discovered abilities with the guidance of Luke Skywalker, who is unsettled by the strength of her powers. Meanwhile, the Resistance prepares to do battle with the First Order.',\n",
       "   'release_date': '2017-12-13'},\n",
       "  {'popularity': 1.354,\n",
       "   'id': 513761,\n",
       "   'video': True,\n",
       "   'vote_count': 1,\n",
       "   'vote_average': 10,\n",
       "   'title': 'Star Wars: The Last Jedi - Scene Breakdowns',\n",
       "   'release_date': '2018-03-12',\n",
       "   'original_language': 'en',\n",
       "   'original_title': 'Star Wars: The Last Jedi - Scene Breakdowns',\n",
       "   'genre_ids': [99],\n",
       "   'backdrop_path': '/pK9SWMUqkoA9D8trFs6YlA01WF8.jpg',\n",
       "   'adult': False,\n",
       "   'overview': 'Star Wars: The Last Jedi bonus disc content. Scene breakdowns of the amazing 2017 movie.',\n",
       "   'poster_path': '/fmb9IauZnCsKek1UTeZ7amAWQSU.jpg'}]}"
      ]
     },
     "execution_count": 16,
     "metadata": {},
     "output_type": "execute_result"
    }
   ],
   "source": [
    "r = requests.get(url)\n",
    "data = r.json()\n",
    "data"
   ]
  },
  {
   "cell_type": "code",
   "execution_count": 17,
   "metadata": {},
   "outputs": [
    {
     "data": {
      "text/plain": [
       "[28, 12, 14, 878]"
      ]
     },
     "execution_count": 17,
     "metadata": {},
     "output_type": "execute_result"
    }
   ],
   "source": [
    "data['results'][0]['genre_ids']"
   ]
  },
  {
   "cell_type": "code",
   "execution_count": 18,
   "metadata": {},
   "outputs": [
    {
     "data": {
      "text/plain": [
       "7"
      ]
     },
     "execution_count": 18,
     "metadata": {},
     "output_type": "execute_result"
    }
   ],
   "source": [
    "data['results'][0]['vote_average']"
   ]
  },
  {
   "cell_type": "code",
   "execution_count": 19,
   "metadata": {},
   "outputs": [
    {
     "data": {
      "text/plain": [
       "'2017-12-13'"
      ]
     },
     "execution_count": 19,
     "metadata": {},
     "output_type": "execute_result"
    }
   ],
   "source": [
    "data['results'][0]['release_date']"
   ]
  },
  {
   "cell_type": "markdown",
   "metadata": {},
   "source": [
    "In order to access the API we wanted to remove all special characters to get a better match to our data"
   ]
  },
  {
   "cell_type": "code",
   "execution_count": 20,
   "metadata": {},
   "outputs": [],
   "source": [
    "df['movie_no_punct'] = df['movie'].str.replace(\",\", '')\n",
    "df['movie_no_punct'] = df['movie_no_punct'].str.replace(\"$\", '')\n",
    "df['movie_no_punct'] = df['movie_no_punct'].str.replace(\".\", '')\n",
    "df['movie_no_punct'] = df['movie_no_punct'].str.replace(\"(\", '')\n",
    "df['movie_no_punct'] = df['movie_no_punct'].str.replace(\")\", '')\n",
    "df['movie_no_punct'] = df['movie_no_punct'].str.replace(\":\", '')\n",
    "df['movie_no_punct'] = df['movie_no_punct'].str.replace(\";\", '')\n",
    "df['movie_no_punct'] = df['movie_no_punct'].str.replace(\"-\", '')\n",
    "df['movie_no_punct'] = df['movie_no_punct'].str.replace(\"+\", '')\n",
    "df['movie_no_punct'] = df['movie_no_punct'].str.replace(\"*\", '')\n",
    "df['movie_no_punct'] = df['movie_no_punct'].str.replace(\"@\", '')\n",
    "df['movie_no_punct'] = df['movie_no_punct'].str.replace(\"!\", '')\n",
    "df['movie_no_punct'] = df['movie_no_punct'].str.replace(\"?\", '')"
   ]
  },
  {
   "cell_type": "markdown",
   "metadata": {},
   "source": [
    "now we needed to add the \"+\" symbol between each word to search the API"
   ]
  },
  {
   "cell_type": "code",
   "execution_count": 23,
   "metadata": {},
   "outputs": [
    {
     "data": {
      "text/html": [
       "<div>\n",
       "<style scoped>\n",
       "    .dataframe tbody tr th:only-of-type {\n",
       "        vertical-align: middle;\n",
       "    }\n",
       "\n",
       "    .dataframe tbody tr th {\n",
       "        vertical-align: top;\n",
       "    }\n",
       "\n",
       "    .dataframe thead th {\n",
       "        text-align: right;\n",
       "    }\n",
       "</style>\n",
       "<table border=\"1\" class=\"dataframe\">\n",
       "  <thead>\n",
       "    <tr style=\"text-align: right;\">\n",
       "      <th></th>\n",
       "      <th>date</th>\n",
       "      <th>movie</th>\n",
       "      <th>budget</th>\n",
       "      <th>domestic_gross</th>\n",
       "      <th>worldwide_gross</th>\n",
       "      <th>worldwide_gross - budget</th>\n",
       "      <th>domestic_gross - budget</th>\n",
       "      <th>movie_no_punct</th>\n",
       "    </tr>\n",
       "  </thead>\n",
       "  <tbody>\n",
       "    <tr>\n",
       "      <td>0</td>\n",
       "      <td>40683</td>\n",
       "      <td>Pirates of the Caribbean: On Stranger Tides</td>\n",
       "      <td>410600000.0</td>\n",
       "      <td>241063875.0</td>\n",
       "      <td>1.045664e+09</td>\n",
       "      <td>6.350639e+08</td>\n",
       "      <td>-169536125.0</td>\n",
       "      <td>Pirates+of+the+Caribbean+On+Stranger+Tides</td>\n",
       "    </tr>\n",
       "    <tr>\n",
       "      <td>1</td>\n",
       "      <td>43578</td>\n",
       "      <td>Avengers: Endgame</td>\n",
       "      <td>400000000.0</td>\n",
       "      <td>858373000.0</td>\n",
       "      <td>2.797801e+09</td>\n",
       "      <td>2.397801e+09</td>\n",
       "      <td>458373000.0</td>\n",
       "      <td>Avengers+Endgame</td>\n",
       "    </tr>\n",
       "    <tr>\n",
       "      <td>2</td>\n",
       "      <td>42116</td>\n",
       "      <td>Avengers: Age of Ultron</td>\n",
       "      <td>330600000.0</td>\n",
       "      <td>459005868.0</td>\n",
       "      <td>1.403014e+09</td>\n",
       "      <td>1.072414e+09</td>\n",
       "      <td>128405868.0</td>\n",
       "      <td>Avengers+Age+of+Ultron</td>\n",
       "    </tr>\n",
       "    <tr>\n",
       "      <td>3</td>\n",
       "      <td>43082</td>\n",
       "      <td>Star Wars Ep. VIII: The Last Jedi</td>\n",
       "      <td>317000000.0</td>\n",
       "      <td>620181382.0</td>\n",
       "      <td>1.332540e+09</td>\n",
       "      <td>1.015540e+09</td>\n",
       "      <td>303181382.0</td>\n",
       "      <td>Star+Wars+Ep+VIII+The+Last+Jedi</td>\n",
       "    </tr>\n",
       "    <tr>\n",
       "      <td>4</td>\n",
       "      <td>42354</td>\n",
       "      <td>Star Wars Ep. VII: The Force Awakens</td>\n",
       "      <td>306000000.0</td>\n",
       "      <td>936662225.0</td>\n",
       "      <td>2.068224e+09</td>\n",
       "      <td>1.762224e+09</td>\n",
       "      <td>630662225.0</td>\n",
       "      <td>Star+Wars+Ep+VII+The+Force+Awakens</td>\n",
       "    </tr>\n",
       "  </tbody>\n",
       "</table>\n",
       "</div>"
      ],
      "text/plain": [
       "    date                                        movie       budget  \\\n",
       "0  40683  Pirates of the Caribbean: On Stranger Tides  410600000.0   \n",
       "1  43578                            Avengers: Endgame  400000000.0   \n",
       "2  42116                      Avengers: Age of Ultron  330600000.0   \n",
       "3  43082            Star Wars Ep. VIII: The Last Jedi  317000000.0   \n",
       "4  42354         Star Wars Ep. VII: The Force Awakens  306000000.0   \n",
       "\n",
       "   domestic_gross  worldwide_gross  worldwide_gross - budget  \\\n",
       "0     241063875.0     1.045664e+09              6.350639e+08   \n",
       "1     858373000.0     2.797801e+09              2.397801e+09   \n",
       "2     459005868.0     1.403014e+09              1.072414e+09   \n",
       "3     620181382.0     1.332540e+09              1.015540e+09   \n",
       "4     936662225.0     2.068224e+09              1.762224e+09   \n",
       "\n",
       "   domestic_gross - budget                              movie_no_punct  \n",
       "0             -169536125.0  Pirates+of+the+Caribbean+On+Stranger+Tides  \n",
       "1              458373000.0                            Avengers+Endgame  \n",
       "2              128405868.0                      Avengers+Age+of+Ultron  \n",
       "3              303181382.0             Star+Wars+Ep+VIII+The+Last+Jedi  \n",
       "4              630662225.0          Star+Wars+Ep+VII+The+Force+Awakens  "
      ]
     },
     "execution_count": 23,
     "metadata": {},
     "output_type": "execute_result"
    }
   ],
   "source": [
    "df['movie_no_punct'] = df['movie_no_punct'].str.replace(' ', '+')\n",
    "df.head()"
   ]
  },
  {
   "cell_type": "code",
   "execution_count": 25,
   "metadata": {},
   "outputs": [],
   "source": [
    "movies = df['movie_no_punct'].unique() #array of movies to be inputted into the for loop to grab API"
   ]
  },
  {
   "cell_type": "code",
   "execution_count": 26,
   "metadata": {},
   "outputs": [
    {
     "data": {
      "text/plain": [
       "array(['Pirates+of+the+Caribbean+On+Stranger+Tides', 'Avengers+Endgame',\n",
       "       'Avengers+Age+of+Ultron', 'Star+Wars+Ep+VIII+The+Last+Jedi',\n",
       "       'Star+Wars+Ep+VII+The+Force+Awakens'], dtype=object)"
      ]
     },
     "execution_count": 26,
     "metadata": {},
     "output_type": "execute_result"
    }
   ],
   "source": [
    "movie_test = movies[:5]\n",
    "movie_test"
   ]
  },
  {
   "cell_type": "markdown",
   "metadata": {},
   "source": [
    "This for loop accesses the \"genre, vote_avg, release_date\" from the API and returns a dict"
   ]
  },
  {
   "cell_type": "code",
   "execution_count": 30,
   "metadata": {
    "scrolled": true
   },
   "outputs": [],
   "source": [
    "movie_info = {}\n",
    "for index,m in enumerate(movies):\n",
    "    url = f\"https://api.themoviedb.org/3/search/movie?api_key={ds_key_1}&query={m}\\\\\"\n",
    "    r=requests.get(url)\n",
    "    data = r.json()\n",
    "    try:\n",
    "        genre = data['results'][0]['genre_ids']\n",
    "        vote_avg = data['results'][0]['vote_average']\n",
    "        release_date = data['results'][0]['release_date']\n",
    "        movie_info[index] = {'movie': m, 'genre': genre, 'vote_avg': vote_avg, 'release_date': release_date}\n",
    "    except:\n",
    "        pass"
   ]
  },
  {
   "cell_type": "markdown",
   "metadata": {},
   "source": [
    "This next line of code turns the dictionary into a dataframe, after that I exported to csv's and continued working in the Combined DataFrames python notebook"
   ]
  },
  {
   "cell_type": "code",
   "execution_count": 31,
   "metadata": {},
   "outputs": [],
   "source": [
    "movie_df = pd.DataFrame.from_dict(movie_info, orient='index', columns = ['movie', 'genre', 'vote_avg', 'release_date'])"
   ]
  },
  {
   "cell_type": "code",
   "execution_count": 40,
   "metadata": {},
   "outputs": [
    {
     "data": {
      "text/html": [
       "<div>\n",
       "<style scoped>\n",
       "    .dataframe tbody tr th:only-of-type {\n",
       "        vertical-align: middle;\n",
       "    }\n",
       "\n",
       "    .dataframe tbody tr th {\n",
       "        vertical-align: top;\n",
       "    }\n",
       "\n",
       "    .dataframe thead th {\n",
       "        text-align: right;\n",
       "    }\n",
       "</style>\n",
       "<table border=\"1\" class=\"dataframe\">\n",
       "  <thead>\n",
       "    <tr style=\"text-align: right;\">\n",
       "      <th></th>\n",
       "      <th>movie</th>\n",
       "      <th>genre</th>\n",
       "      <th>vote_avg</th>\n",
       "      <th>release_date</th>\n",
       "    </tr>\n",
       "  </thead>\n",
       "  <tbody>\n",
       "    <tr>\n",
       "      <td>0</td>\n",
       "      <td>Pirates+of+the+Caribbean+On+Stranger+Tides</td>\n",
       "      <td>[28, 12, 14]</td>\n",
       "      <td>6.4</td>\n",
       "      <td>2011-05-14</td>\n",
       "    </tr>\n",
       "    <tr>\n",
       "      <td>1</td>\n",
       "      <td>Avengers+Endgame</td>\n",
       "      <td>[28, 12, 878]</td>\n",
       "      <td>8.3</td>\n",
       "      <td>2019-04-24</td>\n",
       "    </tr>\n",
       "  </tbody>\n",
       "</table>\n",
       "</div>"
      ],
      "text/plain": [
       "                                        movie          genre  vote_avg  \\\n",
       "0  Pirates+of+the+Caribbean+On+Stranger+Tides   [28, 12, 14]       6.4   \n",
       "1                            Avengers+Endgame  [28, 12, 878]       8.3   \n",
       "\n",
       "  release_date  \n",
       "0   2011-05-14  \n",
       "1   2019-04-24  "
      ]
     },
     "execution_count": 40,
     "metadata": {},
     "output_type": "execute_result"
    }
   ],
   "source": [
    "movie_df.head(2)"
   ]
  },
  {
   "cell_type": "code",
   "execution_count": 43,
   "metadata": {},
   "outputs": [],
   "source": [
    "df.to_csv('full_data_updates')\n",
    "movie_df.to_csv('genre_vote_release_date')"
   ]
  },
  {
   "cell_type": "code",
   "execution_count": null,
>>>>>>> 10ebcc4880c811d8b59603817512fa17724b64d2
   "metadata": {},
   "outputs": [
    {
     "ename": "FileNotFoundError",
     "evalue": "[Errno 2] No such file or directory: '\\u2068/Users/mayankphanse/Documents/API_keys/movie_DB.json'",
     "output_type": "error",
     "traceback": [
      "\u001b[0;31m---------------------------------------------------------------------------\u001b[0m",
      "\u001b[0;31mFileNotFoundError\u001b[0m                         Traceback (most recent call last)",
      "\u001b[0;32m<ipython-input-34-fc96839f125a>\u001b[0m in \u001b[0;36m<module>\u001b[0;34m\u001b[0m\n\u001b[1;32m      8\u001b[0m \u001b[0;34m\u001b[0m\u001b[0m\n\u001b[1;32m      9\u001b[0m \u001b[0;31m#using function to open and load alll keys\u001b[0m\u001b[0;34m\u001b[0m\u001b[0;34m\u001b[0m\u001b[0;34m\u001b[0m\u001b[0m\n\u001b[0;32m---> 10\u001b[0;31m \u001b[0mapi_keys\u001b[0m \u001b[0;34m=\u001b[0m \u001b[0mget_keys\u001b[0m\u001b[0;34m(\u001b[0m\u001b[0;34m\"⁨/Users/mayankphanse/Documents/API_keys/movie_DB.json\"\u001b[0m\u001b[0;34m)\u001b[0m\u001b[0;34m\u001b[0m\u001b[0;34m\u001b[0m\u001b[0m\n\u001b[0m\u001b[1;32m     11\u001b[0m \u001b[0;34m\u001b[0m\u001b[0m\n\u001b[1;32m     12\u001b[0m \u001b[0;31m#setting first value as variable\u001b[0m\u001b[0;34m\u001b[0m\u001b[0;34m\u001b[0m\u001b[0;34m\u001b[0m\u001b[0m\n",
      "\u001b[0;32m<ipython-input-34-fc96839f125a>\u001b[0m in \u001b[0;36mget_keys\u001b[0;34m(path)\u001b[0m\n\u001b[1;32m      4\u001b[0m \u001b[0;31m#def function for to open json\u001b[0m\u001b[0;34m\u001b[0m\u001b[0;34m\u001b[0m\u001b[0;34m\u001b[0m\u001b[0m\n\u001b[1;32m      5\u001b[0m \u001b[0;32mdef\u001b[0m \u001b[0mget_keys\u001b[0m\u001b[0;34m(\u001b[0m\u001b[0mpath\u001b[0m\u001b[0;34m)\u001b[0m\u001b[0;34m:\u001b[0m\u001b[0;34m\u001b[0m\u001b[0;34m\u001b[0m\u001b[0m\n\u001b[0;32m----> 6\u001b[0;31m     \u001b[0;32mwith\u001b[0m \u001b[0mopen\u001b[0m\u001b[0;34m(\u001b[0m\u001b[0mpath\u001b[0m\u001b[0;34m)\u001b[0m \u001b[0;32mas\u001b[0m \u001b[0mf\u001b[0m\u001b[0;34m:\u001b[0m\u001b[0;34m\u001b[0m\u001b[0;34m\u001b[0m\u001b[0m\n\u001b[0m\u001b[1;32m      7\u001b[0m         \u001b[0;32mreturn\u001b[0m \u001b[0mjson\u001b[0m\u001b[0;34m.\u001b[0m\u001b[0mload\u001b[0m\u001b[0;34m(\u001b[0m\u001b[0mf\u001b[0m\u001b[0;34m)\u001b[0m\u001b[0;34m\u001b[0m\u001b[0;34m\u001b[0m\u001b[0m\n\u001b[1;32m      8\u001b[0m \u001b[0;34m\u001b[0m\u001b[0m\n",
      "\u001b[0;31mFileNotFoundError\u001b[0m: [Errno 2] No such file or directory: '\\u2068/Users/mayankphanse/Documents/API_keys/movie_DB.json'"
     ]
    }
   ],
   "source": [
    "#pulling API from movie DB\n",
    "import json\n",
    "\n",
    "#def function for to open json\n",
    "def get_keys(path):\n",
    "    with open(path) as f:\n",
    "        return json.load(f)\n",
    "    \n",
    "#using function to open and load alll keys\n",
    "api_keys = get_keys(\"⁨/Users/mayankphanse/Documents/API_keys/movie_DB.json\")\n",
    "\n",
    "#setting first value as variable\n",
    "ds_key_1 = list(api_keys.values())[0]"
   ]
  },
  {
   "cell_type": "code",
   "execution_count": null,
   "metadata": {},
   "outputs": [],
   "source": []
  }
 ],
 "metadata": {
  "kernelspec": {
   "display_name": "Python [conda env:learn-env] *",
   "language": "python",
   "name": "conda-env-learn-env-py"
  },
  "language_info": {
   "codemirror_mode": {
    "name": "ipython",
    "version": 3
   },
   "file_extension": ".py",
   "mimetype": "text/x-python",
   "name": "python",
   "nbconvert_exporter": "python",
   "pygments_lexer": "ipython3",
   "version": "3.6.9"
  }
 },
 "nbformat": 4,
 "nbformat_minor": 2
}
