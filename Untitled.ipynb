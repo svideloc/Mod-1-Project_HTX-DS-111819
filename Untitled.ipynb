{
 "cells": [
  {
   "cell_type": "code",
   "execution_count": 1,
   "metadata": {},
   "outputs": [],
   "source": [
    "import pandas as pd\n",
    "import numpy as np"
   ]
  },
  {
   "cell_type": "code",
   "execution_count": 2,
   "metadata": {},
   "outputs": [],
   "source": [
    "df = pd.read_csv('final_data_set_sam')"
   ]
  },
  {
   "cell_type": "code",
   "execution_count": 3,
   "metadata": {},
   "outputs": [
    {
     "data": {
      "text/html": [
       "<div>\n",
       "<style scoped>\n",
       "    .dataframe tbody tr th:only-of-type {\n",
       "        vertical-align: middle;\n",
       "    }\n",
       "\n",
       "    .dataframe tbody tr th {\n",
       "        vertical-align: top;\n",
       "    }\n",
       "\n",
       "    .dataframe thead th {\n",
       "        text-align: right;\n",
       "    }\n",
       "</style>\n",
       "<table border=\"1\" class=\"dataframe\">\n",
       "  <thead>\n",
       "    <tr style=\"text-align: right;\">\n",
       "      <th></th>\n",
       "      <th>Unnamed: 0</th>\n",
       "      <th>Unnamed: 0.1</th>\n",
       "      <th>genre</th>\n",
       "      <th>vote_avg</th>\n",
       "      <th>release_date</th>\n",
       "      <th>movie_y</th>\n",
       "      <th>budget</th>\n",
       "      <th>domestic_gross</th>\n",
       "      <th>worldwide_gross</th>\n",
       "      <th>worldwide_gross - budget</th>\n",
       "      <th>...</th>\n",
       "      <th>isHistory</th>\n",
       "      <th>isHorror</th>\n",
       "      <th>isMusic</th>\n",
       "      <th>isMystery</th>\n",
       "      <th>isRomance</th>\n",
       "      <th>isScify</th>\n",
       "      <th>isTVmovie</th>\n",
       "      <th>isThriller</th>\n",
       "      <th>isWar</th>\n",
       "      <th>isWestern</th>\n",
       "    </tr>\n",
       "  </thead>\n",
       "  <tbody>\n",
       "    <tr>\n",
       "      <td>0</td>\n",
       "      <td>0</td>\n",
       "      <td>0</td>\n",
       "      <td>[28, 12, 14]</td>\n",
       "      <td>6.4</td>\n",
       "      <td>2011-05-14</td>\n",
       "      <td>Pirates of the Caribbean: On Stranger Tides</td>\n",
       "      <td>410600000.0</td>\n",
       "      <td>241063875.0</td>\n",
       "      <td>1.045664e+09</td>\n",
       "      <td>6.350639e+08</td>\n",
       "      <td>...</td>\n",
       "      <td>0</td>\n",
       "      <td>0</td>\n",
       "      <td>0</td>\n",
       "      <td>0</td>\n",
       "      <td>0</td>\n",
       "      <td>0</td>\n",
       "      <td>0</td>\n",
       "      <td>0</td>\n",
       "      <td>0</td>\n",
       "      <td>0</td>\n",
       "    </tr>\n",
       "    <tr>\n",
       "      <td>1</td>\n",
       "      <td>1</td>\n",
       "      <td>1</td>\n",
       "      <td>[28, 12, 878]</td>\n",
       "      <td>8.3</td>\n",
       "      <td>2019-04-24</td>\n",
       "      <td>Avengers: Endgame</td>\n",
       "      <td>400000000.0</td>\n",
       "      <td>858373000.0</td>\n",
       "      <td>2.797801e+09</td>\n",
       "      <td>2.397801e+09</td>\n",
       "      <td>...</td>\n",
       "      <td>0</td>\n",
       "      <td>0</td>\n",
       "      <td>0</td>\n",
       "      <td>0</td>\n",
       "      <td>0</td>\n",
       "      <td>1</td>\n",
       "      <td>0</td>\n",
       "      <td>0</td>\n",
       "      <td>0</td>\n",
       "      <td>0</td>\n",
       "    </tr>\n",
       "    <tr>\n",
       "      <td>2</td>\n",
       "      <td>2</td>\n",
       "      <td>2</td>\n",
       "      <td>[28, 12, 878]</td>\n",
       "      <td>7.3</td>\n",
       "      <td>2015-04-22</td>\n",
       "      <td>Avengers: Age of Ultron</td>\n",
       "      <td>330600000.0</td>\n",
       "      <td>459005868.0</td>\n",
       "      <td>1.403014e+09</td>\n",
       "      <td>1.072414e+09</td>\n",
       "      <td>...</td>\n",
       "      <td>0</td>\n",
       "      <td>0</td>\n",
       "      <td>0</td>\n",
       "      <td>0</td>\n",
       "      <td>0</td>\n",
       "      <td>1</td>\n",
       "      <td>0</td>\n",
       "      <td>0</td>\n",
       "      <td>0</td>\n",
       "      <td>0</td>\n",
       "    </tr>\n",
       "    <tr>\n",
       "      <td>3</td>\n",
       "      <td>3</td>\n",
       "      <td>3</td>\n",
       "      <td>[28, 12, 878]</td>\n",
       "      <td>8.3</td>\n",
       "      <td>2018-04-25</td>\n",
       "      <td>Avengers: Infinity War</td>\n",
       "      <td>300000000.0</td>\n",
       "      <td>678815482.0</td>\n",
       "      <td>2.048360e+09</td>\n",
       "      <td>1.748360e+09</td>\n",
       "      <td>...</td>\n",
       "      <td>0</td>\n",
       "      <td>0</td>\n",
       "      <td>0</td>\n",
       "      <td>0</td>\n",
       "      <td>0</td>\n",
       "      <td>1</td>\n",
       "      <td>0</td>\n",
       "      <td>0</td>\n",
       "      <td>0</td>\n",
       "      <td>0</td>\n",
       "    </tr>\n",
       "    <tr>\n",
       "      <td>4</td>\n",
       "      <td>4</td>\n",
       "      <td>4</td>\n",
       "      <td>[28, 12, 14]</td>\n",
       "      <td>7.1</td>\n",
       "      <td>2007-05-19</td>\n",
       "      <td>Pirates of the Caribbean: At World’s End</td>\n",
       "      <td>300000000.0</td>\n",
       "      <td>309420425.0</td>\n",
       "      <td>9.634204e+08</td>\n",
       "      <td>6.634204e+08</td>\n",
       "      <td>...</td>\n",
       "      <td>0</td>\n",
       "      <td>0</td>\n",
       "      <td>0</td>\n",
       "      <td>0</td>\n",
       "      <td>0</td>\n",
       "      <td>0</td>\n",
       "      <td>0</td>\n",
       "      <td>0</td>\n",
       "      <td>0</td>\n",
       "      <td>0</td>\n",
       "    </tr>\n",
       "  </tbody>\n",
       "</table>\n",
       "<p>5 rows × 30 columns</p>\n",
       "</div>"
      ],
      "text/plain": [
       "   Unnamed: 0  Unnamed: 0.1          genre  vote_avg release_date  \\\n",
       "0           0             0   [28, 12, 14]       6.4   2011-05-14   \n",
       "1           1             1  [28, 12, 878]       8.3   2019-04-24   \n",
       "2           2             2  [28, 12, 878]       7.3   2015-04-22   \n",
       "3           3             3  [28, 12, 878]       8.3   2018-04-25   \n",
       "4           4             4   [28, 12, 14]       7.1   2007-05-19   \n",
       "\n",
       "                                       movie_y       budget  domestic_gross  \\\n",
       "0  Pirates of the Caribbean: On Stranger Tides  410600000.0     241063875.0   \n",
       "1                            Avengers: Endgame  400000000.0     858373000.0   \n",
       "2                      Avengers: Age of Ultron  330600000.0     459005868.0   \n",
       "3                       Avengers: Infinity War  300000000.0     678815482.0   \n",
       "4     Pirates of the Caribbean: At World’s End  300000000.0     309420425.0   \n",
       "\n",
       "   worldwide_gross  worldwide_gross - budget  ...  isHistory  isHorror  \\\n",
       "0     1.045664e+09              6.350639e+08  ...          0         0   \n",
       "1     2.797801e+09              2.397801e+09  ...          0         0   \n",
       "2     1.403014e+09              1.072414e+09  ...          0         0   \n",
       "3     2.048360e+09              1.748360e+09  ...          0         0   \n",
       "4     9.634204e+08              6.634204e+08  ...          0         0   \n",
       "\n",
       "   isMusic  isMystery  isRomance  isScify  isTVmovie  isThriller  isWar  \\\n",
       "0        0          0          0        0          0           0      0   \n",
       "1        0          0          0        1          0           0      0   \n",
       "2        0          0          0        1          0           0      0   \n",
       "3        0          0          0        1          0           0      0   \n",
       "4        0          0          0        0          0           0      0   \n",
       "\n",
       "   isWestern  \n",
       "0          0  \n",
       "1          0  \n",
       "2          0  \n",
       "3          0  \n",
       "4          0  \n",
       "\n",
       "[5 rows x 30 columns]"
      ]
     },
     "execution_count": 3,
     "metadata": {},
     "output_type": "execute_result"
    }
   ],
   "source": [
    "df.head()"
   ]
  },
  {
   "cell_type": "code",
   "execution_count": 6,
   "metadata": {},
   "outputs": [],
   "source": [
    "df['rounded_vote'] = df['vote_avg'].round()"
   ]
  },
  {
   "cell_type": "code",
   "execution_count": 13,
   "metadata": {},
   "outputs": [],
   "source": [
    "from matplotlib import pyplot as plt"
   ]
  },
  {
   "cell_type": "code",
   "execution_count": 14,
   "metadata": {},
   "outputs": [
    {
     "data": {
      "text/plain": [
       "(array([  3.,   0.,   0.,   0.,   5.,  48., 272., 179.,  58.,   1.]),\n",
       " array([0. , 0.9, 1.8, 2.7, 3.6, 4.5, 5.4, 6.3, 7.2, 8.1, 9. ]),\n",
       " <a list of 10 Patch objects>)"
      ]
     },
     "execution_count": 14,
     "metadata": {},
     "output_type": "execute_result"
    },
    {
     "data": {
      "image/png": "[encoded data removed]",
      "text/plain": [
       "<Figure size 432x288 with 1 Axes>"
      ]
     },
     "metadata": {
      "needs_background": "light"
     },
     "output_type": "display_data"
    }
   ],
   "source": [
    "plt.hist(df.rounded_vote)"
   ]
  },
  {
   "cell_type": "code",
   "execution_count": 16,
   "metadata": {},
   "outputs": [
    {
     "data": {
      "text/plain": [
       "(array([104., 182., 102.,  56.,  42.,  36.,  14.,  15.,   5.,   4.,   2.,\n",
       "          1.,   0.,   1.,   0.,   0.,   0.,   0.,   1.,   1.]),\n",
       " array([-1.10450242e+08,  2.27075338e+07,  1.55865310e+08,  2.89023086e+08,\n",
       "         4.22180861e+08,  5.55338637e+08,  6.88496413e+08,  8.21654189e+08,\n",
       "         9.54811965e+08,  1.08796974e+09,  1.22112752e+09,  1.35428529e+09,\n",
       "         1.48744307e+09,  1.62060084e+09,  1.75375862e+09,  1.88691640e+09,\n",
       "         2.02007417e+09,  2.15323195e+09,  2.28638972e+09,  2.41954750e+09,\n",
       "         2.55270528e+09]),\n",
       " <a list of 20 Patch objects>)"
      ]
     },
     "execution_count": 16,
     "metadata": {},
     "output_type": "execute_result"
    },
    {
     "data": {
      "image/png": "[encoded data removed]",
      "text/plain": [
       "<Figure size 432x288 with 1 Axes>"
      ]
     },
     "metadata": {
      "needs_background": "light"
     },
     "output_type": "display_data"
    }
   ],
   "source": [
    "plt.hist(df['worldwide_gross - budget'], bins = 20)"
   ]
  },
  {
   "cell_type": "code",
   "execution_count": 17,
   "metadata": {},
   "outputs": [
    {
     "data": {
      "text/plain": [
       "<BarContainer object of 566 artists>"
      ]
     },
     "execution_count": 17,
     "metadata": {},
     "output_type": "execute_result"
    },
    {
     "data": {
      "image/png": "[encoded data removed]",
      "text/plain": [
       "<Figure size 432x288 with 1 Axes>"
      ]
     },
     "metadata": {
      "needs_background": "light"
     },
     "output_type": "display_data"
    }
   ],
   "source": [
    "plt.bar(df['rounded_vote'], df['worldwide_gross - budget'])"
   ]
  },
  {
   "cell_type": "code",
   "execution_count": 18,
   "metadata": {},
   "outputs": [],
   "source": [
    "df.to_csv('new_data_sam_dec5')"
   ]
  },
  {
   "cell_type": "code",
   "execution_count": null,
   "metadata": {},
   "outputs": [],
   "source": []
  }
 ],
 "metadata": {
  "kernelspec": {
   "display_name": "Python [conda env:learn-env] *",
   "language": "python",
   "name": "conda-env-learn-env-py"
  },
  "language_info": {
   "codemirror_mode": {
    "name": "ipython",
    "version": 3
   },
   "file_extension": ".py",
   "mimetype": "text/x-python",
   "name": "python",
   "nbconvert_exporter": "python",
   "pygments_lexer": "ipython3",
   "version": "3.6.9"
  }
 },
 "nbformat": 4,
 "nbformat_minor": 2
}
